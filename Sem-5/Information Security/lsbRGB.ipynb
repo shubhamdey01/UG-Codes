{
 "cells": [
  {
   "cell_type": "markdown",
   "metadata": {},
   "source": [
    "LSB Steganography for RGB image"
   ]
  },
  {
   "cell_type": "code",
   "execution_count": null,
   "metadata": {},
   "outputs": [],
   "source": [
    "from PIL import Image\n",
    "import numpy as np\n",
    "import matplotlib.pyplot as plt"
   ]
  },
  {
   "cell_type": "code",
   "execution_count": null,
   "metadata": {},
   "outputs": [],
   "source": [
    "img = np.asarray(Image.open('lena.tif'))\n",
    "plt.imshow(img, cmap='gray')\n",
    "W,H,D = img.shape"
   ]
  },
  {
   "cell_type": "markdown",
   "metadata": {},
   "source": [
    "essage processing"
   ]
  },
  {
   "cell_type": "code",
   "execution_count": null,
   "metadata": {},
   "outputs": [],
   "source": [
    "message = input()\n",
    "message += '[END]'\n",
    "message = message.encode('ascii')\n",
    "message_bits = ''.join([format(i,'08b') for i in message])"
   ]
  },
  {
   "cell_type": "markdown",
   "metadata": {},
   "source": [
    "ncoding"
   ]
  },
  {
   "cell_type": "code",
   "execution_count": null,
   "metadata": {},
   "outputs": [],
   "source": [
    "img = img.flatten()\n",
    "for idx, bit in enumerate(message_bits):\n",
    "    val = img[idx]\n",
    "    val = bin(val)\n",
    "    val = val[:-1] + bit\n",
    "    img[idx] = int(val,2)\n",
    "encoded_img = img.reshape((W,H,D))"
   ]
  },
  {
   "cell_type": "markdown",
   "metadata": {},
   "source": [
    "lotting"
   ]
  },
  {
   "cell_type": "code",
   "execution_count": null,
   "metadata": {},
   "outputs": [],
   "source": [
    "form_img = Image.fromarray(encoded_img)\n",
    "plt.imshow(form_img, cmap='gray')\n",
    "form_img.save(\"1234-modified.jpg\")"
   ]
  },
  {
   "cell_type": "markdown",
   "metadata": {},
   "source": [
    "ecoding"
   ]
  },
  {
   "cell_type": "code",
   "execution_count": null,
   "metadata": {},
   "outputs": [],
   "source": [
    "decode_img = encoded_img.flatten()\n",
    "msg = \"\"\n",
    "idx = 0\n",
    "while msg[-5:] != '[END]':\n",
    "    bits = [bin(i)[-1] for i in img[idx:idx+8]]\n",
    "    bits = ''.join(bits)\n",
    "    msg += chr(int(bits,2))\n",
    "    idx+=8\n",
    "    if idx > img.shape[0]:\n",
    "        print(\"No hidden message\")\n",
    "        break\n",
    "print(msg)"
   ]
  }
 ],
 "metadata": {
  "kernelspec": {
   "display_name": "Python 3 (ipykernel)",
   "language": "python",
   "name": "python3"
  },
  "language_info": {
   "codemirror_mode": {
    "name": "ipython",
    "version": 3
   },
   "file_extension": ".py",
   "mimetype": "text/x-python",
   "name": "python",
   "nbconvert_exporter": "python",
   "pygments_lexer": "ipython3",
   "version": "3.8.10"
  }
 },
 "nbformat": 4,
 "nbformat_minor": 4
}
